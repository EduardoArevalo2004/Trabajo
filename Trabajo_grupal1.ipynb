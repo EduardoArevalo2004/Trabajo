{
 "cells": [
  {
   "cell_type": "markdown",
   "id": "19d84d5a-236b-486b-8d9d-c4723734b293",
   "metadata": {},
   "source": [
    "# Torres de Hanoi "
   ]
  },
  {
   "cell_type": "markdown",
   "id": "a0a0eefe-964a-417f-b68e-9de7ee936928",
   "metadata": {},
   "source": [
    "##  Introducción"
   ]
  },
  {
   "cell_type": "markdown",
   "id": "fbadaa3c-64bc-4a16-8f35-19a33c00255c",
   "metadata": {},
   "source": [
    "El juego de las Torres de Hanoi, también conocido como las Torres de Brahma o el problema del fin del mundo, es un rompecabezas propuesto por el matemático Édouard Lucas. Consiste en tres varillas verticales, una de las cuales tiene un número indeterminado de discos apilados de forma decreciente, de abajo hacia arriba. El objetivo es mover toda la pila de discos a otra varilla respetando ciertas reglas: solo se puede mover un disco a la vez y nunca se puede colocar un disco más grande sobre uno más pequeño. Aunque las reglas son simples, resolver el rompecabezas puede ser un desafío interesante que requiere habilidades en lógica, razonamiento y pensamiento creativo. El juego ha sido analizado por matemáticos y científicos de la computación debido a su relevancia en la teoría de algoritmos y su aplicación en la informática.\n"
   ]
  },
  {
   "cell_type": "markdown",
   "id": "36c356c2",
   "metadata": {},
   "source": [
    "![Imagen](https://upload.wikimedia.org/wikipedia/commons/0/07/Tower_of_Hanoi.jpeg)"
   ]
  },
  {
   "cell_type": "markdown",
   "id": "13689068",
   "metadata": {},
   "source": [
    "## Descripción del problema\n",
    "\n",
    "Imagina un juego con tres varillas verticales. En una de ellas, llamada \"origen\", hay una pila de discos de diferentes tamaños, ordenados del más grande en la parte inferior al más pequeño en la parte superior. El objetivo es trasladar toda esta pila a otra varilla llamada \"destino\" usando la menor cantidad de movimientos posible.\n",
    "\n",
    "Las reglas son simples:\n",
    "\n",
    "+ Solo puedes mover un disco a la vez.\n",
    "+ Solo puedes mover el disco que esté en la parte superior de cada varilla.\n",
    "+ Nunca puedes poner un disco grande sobre uno más pequeño.\n",
    "\n"
   ]
  },
  {
   "cell_type": "markdown",
   "id": "1d3b15cd-28b0-4a21-a0e2-c900a0772194",
   "metadata": {},
   "source": [
    "## Estrategia\n",
    "Lo importante antes de comenzar a contar el número de movimientos necesarios para \n",
    "resolver el juego, y otros problemas combinatorios asociados, es tener una solución del\r\n",
    "juego y poder garantizar que está solución es óptima.\r",
    "\r\n"
   ]
  },
  {
   "cell_type": "markdown",
   "id": "c7cd3a8d-6ac4-431b-afb2-540a39b9d305",
   "metadata": {},
   "source": [
    "### Función: mover\n",
    "La función \"mover\" toma cuatro parámetros: \"n_disco\", que representa el número de discos \r\n",
    "a mover; \"origen\", que es la varilla de origen; \"destino\", que es la varilla de destino; y \r\n",
    "\"auxiliar\", que es la varilla auxiliar. Dentro de la función \"mover\", se verifica si hay al menos \r\n",
    "un disco para mover.er.\r"
   ]
  },
  {
   "cell_type": "code",
   "execution_count": 4,
   "id": "3cbd6ca9-c886-4069-9ff2-dd411cae460e",
   "metadata": {},
   "outputs": [
    {
     "name": "stdout",
     "output_type": "stream",
     "text": [
      "Mueva el disco 1 de la torre A a la torre B\n",
      "Mueva el disco 2 de la torre A a la torre C\n",
      "Mueva el disco 1 de la torre B a la torre C\n",
      "Mueva el disco 3 de la torre A a la torre B\n",
      "Mueva el disco 1 de la torre C a la torre A\n",
      "Mueva el disco 2 de la torre C a la torre B\n",
      "Mueva el disco 1 de la torre A a la torre B\n"
     ]
    }
   ],
   "source": [
    "\n",
    "\n",
    "def mover(n_disco, origen, destino, auxiliar):\n",
    " \"\"\"_summary_\n",
    " Args:\n",
    " n_disco (_int_): Cantidad de discos a mover\n",
    " origen (_str_): Varilla donde se encuentran inicialmente\n",
    " destino (_str_): Varilla donde irá la nueva posición de los discos\n",
    " auxiliar (_str_): Varilla libre\n",
    " \"\"\"\n",
    " if n_disco > 0:\n",
    "   mover(n_disco-1, origen, auxiliar, destino)\n",
    "   print(\"Mueva el disco\", n_disco, \"de la torre\", origen, \"a la torre\", destino)\n",
    "   mover(n_disco-1, auxiliar, destino, origen)\n",
    "   return\n",
    "#EJEMPLO\n",
    "mover(3, \"A\", \"B\",\"C\")"
   ]
  },
  {
   "cell_type": "markdown",
   "id": "2f354055-d3fb-421f-a11d-9e0b713020fc",
   "metadata": {},
   "source": [
    "### Función: Torres_hanoi \n"
   ]
  },
  {
   "cell_type": "markdown",
   "id": "eba15d6a-582d-4980-b1b0-d92d27a25bf7",
   "metadata": {},
   "source": [
    "La función \"torres_hanoi\" simplemente llama a la función \"mover\" con los parámetros \n",
    "iniciales proporcionados. Es el punto de entrada para resolver el problema de las Torres \n",
    "de Hanoi. "
   ]
  },
  {
   "cell_type": "code",
   "execution_count": 4,
   "id": "6cea72a4-e842-4269-af8e-c87a0bfd759d",
   "metadata": {},
   "outputs": [
    {
     "name": "stdout",
     "output_type": "stream",
     "text": [
      "Mover disco 1 de torre A a torre C\n",
      "Mover disco 2 de torre A a torre B\n",
      "Mover disco 1 de torre C a torre B\n",
      "Mover disco 3 de torre A a torre C\n",
      "Mover disco 1 de torre B a torre A\n",
      "Mover disco 2 de torre B a torre C\n",
      "Mover disco 1 de torre A a torre C\n"
     ]
    }
   ],
   "source": [
    "def torres_hanoi(num_discos): \n",
    "    \"\"\"Imprime los pasos para mover los discos en las Torres de Hanoi.\n",
    "\n",
    "    Args: \n",
    "        num_discos (int): Cantidad de discos a mover.\n",
    "    \"\"\" \n",
    "    def mover(n, origen, destino, auxiliar):\n",
    "        if n == 1:\n",
    "            print(f'Mover disco 1 de torre {origen} a torre {destino}')\n",
    "            return\n",
    "        mover(n - 1, origen, auxiliar, destino)\n",
    "        print(f'Mover disco {n} de torre {origen} a torre {destino}')\n",
    "        mover(n - 1, auxiliar, destino, origen)\n",
    "\n",
    "    mover(num_discos, 'A', 'C', 'B')\n",
    "\n",
    "# Ejemplo de uso\n",
    "torres_hanoi(3)\n"
   ]
  },
  {
   "cell_type": "code",
   "execution_count": null,
   "id": "ea0bfafc-2c56-4096-952e-c7e75e4bfff7",
   "metadata": {},
   "outputs": [],
   "source": []
  }
 ],
 "metadata": {
  "kernelspec": {
   "display_name": "Python 3 (ipykernel)",
   "language": "python",
   "name": "python3"
  },
  "language_info": {
   "codemirror_mode": {
    "name": "ipython",
    "version": 3
   },
   "file_extension": ".py",
   "mimetype": "text/x-python",
   "name": "python",
   "nbconvert_exporter": "python",
   "pygments_lexer": "ipython3",
   "version": "3.11.7"
  }
 },
 "nbformat": 4,
 "nbformat_minor": 5
}
