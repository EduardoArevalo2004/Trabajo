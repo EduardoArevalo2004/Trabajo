{
 "cells": [
  {
   "cell_type": "markdown",
   "id": "19d84d5a-236b-486b-8d9d-c4723734b293",
   "metadata": {},
   "source": [
    "# Torres de Hanoi "
   ]
  },
  {
   "cell_type": "markdown",
   "id": "a0a0eefe-964a-417f-b68e-9de7ee936928",
   "metadata": {},
   "source": [
    "##  Introducción"
   ]
  },
  {
   "cell_type": "markdown",
   "id": "fbadaa3c-64bc-4a16-8f35-19a33c00255c",
   "metadata": {},
   "source": [
    "El juego de las Torres de Hanoi, también conocido como las Torres de Brahma o el problema del fin del mundo, es un rompecabezas propuesto por el matemático Édouard Lucas. Consiste en tres varillas verticales, una de las cuales tiene un número indeterminado de discos apilados de forma decreciente, de abajo hacia arriba. El objetivo es mover toda la pila de discos a otra varilla respetando ciertas reglas: solo se puede mover un disco a la vez y nunca se puede colocar un disco más grande sobre uno más pequeño. Aunque las reglas son simples, resolver el rompecabezas puede ser un desafío interesante que requiere habilidades en lógica, razonamiento y pensamiento creativo. El juego ha sido analizado por matemáticos y científicos de la computación debido a su relevancia en la teoría de algoritmos y su aplicación en la informática.\n"
   ]
  },
  {
   "cell_type": "markdown",
   "id": "36c356c2",
   "metadata": {},
   "source": [
    "![Imagen](https://upload.wikimedia.org/wikipedia/commons/0/07/Tower_of_Hanoi.jpeg)"
   ]
  },
  {
   "cell_type": "markdown",
   "id": "13689068",
   "metadata": {},
   "source": [
    "## Descripción del problema\n",
    "\n",
    "Imagina un juego con tres varillas verticales. En una de ellas, llamada \"origen\", hay una pila de discos de diferentes tamaños, ordenados del más grande en la parte inferior al más pequeño en la parte superior. El objetivo es trasladar toda esta pila a otra varilla llamada \"destino\" usando la menor cantidad de movimientos posible.\n",
    "\n",
    "Las reglas son simples:\n",
    "\n",
    "+ Solo puedes mover un disco a la vez.\n",
    "+ Solo puedes mover el disco que esté en la parte superior de cada varilla.\n",
    "+ Nunca puedes poner un disco grande sobre uno más pequeño.\n",
    "\n"
   ]
  },
  {
   "cell_type": "code",
   "execution_count": null,
   "id": "6233c631",
   "metadata": {},
   "outputs": [],
   "source": [
    "## "
   ]
  }
 ],
 "metadata": {
  "kernelspec": {
   "display_name": "Python 3 (ipykernel)",
   "language": "python",
   "name": "python3"
  },
  "language_info": {
   "codemirror_mode": {
    "name": "ipython",
    "version": 3
   },
   "file_extension": ".py",
   "mimetype": "text/x-python",
   "name": "python",
   "nbconvert_exporter": "python",
   "pygments_lexer": "ipython3",
   "version": "3.9.12"
  }
 },
 "nbformat": 4,
 "nbformat_minor": 5
}
