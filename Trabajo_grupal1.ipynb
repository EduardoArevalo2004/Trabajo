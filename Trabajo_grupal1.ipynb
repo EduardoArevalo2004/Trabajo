{
 "cells": [
  {
   "cell_type": "markdown",
   "id": "85ae718b",
   "metadata": {},
   "source": [
    "# hola mundooo"
   ]
  },
  {
   "cell_type": "code",
   "execution_count": 1,
   "id": "bf6014d9",
   "metadata": {},
   "outputs": [
    {
     "data": {
      "text/plain": [
       "6"
      ]
     },
     "execution_count": 1,
     "metadata": {},
     "output_type": "execute_result"
    }
   ],
   "source": [
    "prueba 2"
   ]
  }
 ],
 "metadata": {
  "kernelspec": {
   "display_name": "Python 3 (ipykernel)",
   "language": "python",
   "name": "python3"
  },
  "language_info": {
   "codemirror_mode": {
    "name": "ipython",
    "version": 3
   },
   "file_extension": ".py",
   "mimetype": "text/x-python",
   "name": "python",
   "nbconvert_exporter": "python",
   "pygments_lexer": "ipython3",
   "version": "3.11.7"
  }
 },
 "nbformat": 4,
 "nbformat_minor": 5
}
