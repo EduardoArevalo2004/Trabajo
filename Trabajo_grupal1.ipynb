{
 "cells": [
  {
   "cell_type": "markdown",
   "id": "19d84d5a-236b-486b-8d9d-c4723734b293",
   "metadata": {},
   "source": [
    "# Torres de Hanoi "
   ]
  },
  {
   "cell_type": "markdown",
   "id": "a0a0eefe-964a-417f-b68e-9de7ee936928",
   "metadata": {},
   "source": [
    "##  Introducción"
   ]
  },
  {
   "cell_type": "markdown",
   "id": "fbadaa3c-64bc-4a16-8f35-19a33c00255c",
   "metadata": {},
   "source": [
    "El juego de las Torres de Hanoi, también conocido como las Torres de Brahma o el problema del fin del mundo, es un rompecabezas propuesto por el matemático Édouard Lucas. Consiste en tres varillas verticales, una de las cuales tiene un número indeterminado de discos apilados de forma decreciente, de abajo hacia arriba. El objetivo es mover toda la pila de discos a otra varilla respetando ciertas reglas: solo se puede mover un disco a la vez y nunca se puede colocar un disco más grande sobre uno más pequeño. Aunque las reglas son simples, resolver el rompecabezas puede ser un desafío interesante que requiere habilidades en lógica, razonamiento y pensamiento creativo. El juego ha sido analizado por matemáticos y científicos de la computación debido a su relevancia en la teoría de algoritmos y su aplicación en la informática.\n"
   ]
  },
  {
   "cell_type": "markdown",
   "id": "36c356c2",
   "metadata": {},
   "source": [
    "![Imagen](https://upload.wikimedia.org/wikipedia/commons/0/07/Tower_of_Hanoi.jpeg)"
   ]
  },
  {
   "cell_type": "markdown",
   "id": "13689068",
   "metadata": {},
   "source": [
    "## Descripción del problema\n",
    "\n",
    "Imagina un juego con tres varillas verticales. En una de ellas, llamada \"origen\", hay una pila de discos de diferentes tamaños, ordenados del más grande en la parte inferior al más pequeño en la parte superior. El objetivo es trasladar toda esta pila a otra varilla llamada \"destino\" usando la menor cantidad de movimientos posible.\n",
    "\n",
    "Las reglas son simples:\n",
    "\n",
    "+ Solo puedes mover un disco a la vez.\n",
    "+ Solo puedes mover el disco que esté en la parte superior de cada varilla.\n",
    "+ Nunca puedes poner un disco grande sobre uno más pequeño.\n",
    "\n"
   ]
  },
  {
   "cell_type": "markdown",
   "id": "1d3b15cd-28b0-4a21-a0e2-c900a0772194",
   "metadata": {},
   "source": [
    "## Estrategia\n",
    "Lo importante antes de comenzar a contar el número de movimientos necesarios para \n",
    "resolver el juego, y otros problemas combinatorios asociados, es tener una solución del\n",
    "juego y poder garantizar que está solución es óptima.\n",
    "\n"
   ]
  },
  {
   "cell_type": "markdown",
   "id": "c7cd3a8d-6ac4-431b-afb2-540a39b9d305",
   "metadata": {},
   "source": [
    "### Función: mover\n",
    "La función \"mover\" toma cuatro parámetros: \"n_disco\", que representa el número de discos \n",
    "a mover; \"origen\", que es la varilla de origen; \"destino\", que es la varilla de destino; y \n",
    "\"auxiliar\", que es la varilla auxiliar. Dentro de la función \"mover\", se verifica si hay al menos \n",
    "un disco para mover.er.\n"
   ]
  },
  {
   "cell_type": "code",
   "execution_count": 4,
   "id": "3cbd6ca9-c886-4069-9ff2-dd411cae460e",
   "metadata": {},
   "outputs": [
    {
     "name": "stdout",
     "output_type": "stream",
     "text": [
      "Mueva el disco 1 de la torre A a la torre B\n",
      "Mueva el disco 2 de la torre A a la torre C\n",
      "Mueva el disco 1 de la torre B a la torre C\n",
      "Mueva el disco 3 de la torre A a la torre B\n",
      "Mueva el disco 1 de la torre C a la torre A\n",
      "Mueva el disco 2 de la torre C a la torre B\n",
      "Mueva el disco 1 de la torre A a la torre B\n"
     ]
    }
   ],
   "source": [
    "\n",
    "\n",
    "def mover(n_disco, origen, destino, auxiliar):\n",
    " \"\"\"_summary_\n",
    " Args:\n",
    " n_disco (_int_): Cantidad de discos a mover\n",
    " origen (_str_): Varilla donde se encuentran inicialmente\n",
    " destino (_str_): Varilla donde irá la nueva posición de los discos\n",
    " auxiliar (_str_): Varilla libre\n",
    " \"\"\"\n",
    " if n_disco > 0:\n",
    "   mover(n_disco-1, origen, auxiliar, destino)\n",
    "   print(\"Mueva el disco\", n_disco, \"de la torre\", origen, \"a la torre\", destino)\n",
    "   mover(n_disco-1, auxiliar, destino, origen)\n",
    "   return\n",
    "#EJEMPLO\n",
    "mover(3, \"A\", \"B\",\"C\")"
   ]
  },
  {
   "cell_type": "markdown",
   "id": "2f354055-d3fb-421f-a11d-9e0b713020fc",
   "metadata": {},
   "source": [
    "### Función: Torres_hanoi \n"
   ]
  },
  {
   "cell_type": "markdown",
   "id": "eba15d6a-582d-4980-b1b0-d92d27a25bf7",
   "metadata": {},
   "source": [
    "La función \"torres_hanoi\" simplemente llama a la función \"mover\" con los parámetros \n",
    "iniciales proporcionados. Es el punto de entrada para resolver el problema de las Torres \n",
    "de Hanoi. "
   ]
  },
  {
   "cell_type": "code",
   "execution_count": 6,
   "id": "6cea72a4-e842-4269-af8e-c87a0bfd759d",
   "metadata": {},
   "outputs": [
    {
     "name": "stdout",
     "output_type": "stream",
     "text": [
      "Mover disco 1 de torre A a torre C\n",
      "Mover disco 2 de torre A a torre B\n",
      "Mover disco 1 de torre C a torre B\n",
      "Mover disco 3 de torre A a torre C\n",
      "Mover disco 1 de torre B a torre A\n",
      "Mover disco 2 de torre B a torre C\n",
      "Mover disco 1 de torre A a torre C\n"
     ]
    }
   ],
   "source": [
    "def torres_hanoi(num_discos): \n",
    "    \"\"\"Imprime los pasos para mover los discos en las Torres de Hanoi.\n",
    "\n",
    "    Args: \n",
    "        num_discos (int): Cantidad de discos a mover.\n",
    "    \"\"\" \n",
    "    def mover(n, origen, destino, auxiliar):\n",
    "        if n == 1:\n",
    "            print(f'Mover disco 1 de torre {origen} a torre {destino}')\n",
    "            return\n",
    "        mover(n - 1, origen, auxiliar, destino)\n",
    "        print(f'Mover disco {n} de torre {origen} a torre {destino}')\n",
    "        mover(n - 1, auxiliar, destino, origen)\n",
    "\n",
    "    mover(num_discos, 'A', 'C', 'B')\n",
    "\n",
    "# Ejemplo de uso\n",
    "torres_hanoi(3)\n"
   ]
  },
  {
   "cell_type": "markdown",
   "id": "2524f786",
   "metadata": {},
   "source": [
    "### Función: Numero_movimientos\n",
    "\n",
    "La función \"numero_movimientos\" calcula el número de movimientos necesarios para \n",
    "resolver el problema de las Torres de Hanoi con base en el número de discos. Utiliza la \n",
    "recursividad para obtener este valor."
   ]
  },
  {
   "cell_type": "code",
   "execution_count": 2,
   "id": "eb3fad96",
   "metadata": {},
   "outputs": [
    {
     "name": "stdout",
     "output_type": "stream",
     "text": [
      "Para 3 discos, se necesitan 7 movimientos.\n"
     ]
    }
   ],
   "source": [
    "def numero_movimientos(n):\n",
    "    \"\"\"\n",
    "    Calcula el número total de movimientos necesarios para resolver el problema\n",
    "    de las Torres de Hanoi con `n` discos.\n",
    "\n",
    "    Args:\n",
    "        n (int): Cantidad de discos a mover.\n",
    "\n",
    "    Returns:\n",
    "        int: Número total de movimientos necesarios.\n",
    "    \"\"\"\n",
    "    if n == 0:\n",
    "        return 0\n",
    "    else:\n",
    "        # Calcula el número de movimientos recursivamente usando la fórmula 2^n - 1\n",
    "        resultado = 2**n - 1\n",
    "        return resultado\n",
    "# Ejemplo de uso\n",
    "num_discos = 3\n",
    "movimientos = numero_movimientos(num_discos)\n",
    "print(f\"Para {num_discos} discos, se necesitan {movimientos} movimientos.\")\n"
   ]
  },
  {
   "cell_type": "markdown",
   "id": "22f29580",
   "metadata": {},
   "source": [
    "### Número de discos "
   ]
  },
  {
   "cell_type": "markdown",
   "id": "ecb8057f",
   "metadata": {},
   "source": [
    "Luego, el código solicita al usuario que ingrese el número de discos. Se verifica que el \n",
    "número ingresado sea mayor o igual a cero antes de continuar. "
   ]
  },
  {
   "cell_type": "code",
   "execution_count": 3,
   "id": "1c12cea0",
   "metadata": {},
   "outputs": [
    {
     "name": "stdin",
     "output_type": "stream",
     "text": [
      "Ingrese el número de discos:  3\n"
     ]
    },
    {
     "name": "stdout",
     "output_type": "stream",
     "text": [
      "Ha ingresado 3 discos.\n"
     ]
    }
   ],
   "source": [
    "num_discos = int(input(\"Ingrese el número de discos: \"))  # Solicitar un número entero\n",
    "\n",
    "# Validar que el número de discos sea mayor o igual a cero\n",
    "while num_discos < 0:\n",
    "    print(\"El número de discos debe ser mayor o igual a cero.\")\n",
    "    num_discos = int(input(\"Ingrese el número de discos: \"))  # Solicitar nuevamente el número\n",
    "\n",
    "# En este punto, num_discos es un número entero no negativo válido\n",
    "print(f\"Ha ingresado {num_discos} discos.\")\n"
   ]
  },
  {
   "cell_type": "markdown",
   "id": "64a52123-ccdf-4187-a634-ab68e387ee83",
   "metadata": {},
   "source": [
    "## Impresión\n",
    "Se muestra en pantalla el número de movimientos necesarios para resolver el problema \n",
    "de las Torres de Hanoi con el número de discos proporcionado, utilizando la función \n",
    "\"numero_movimientos\".\n",
    "Finalmente, se llama a la función \"torres_hanoi\" con el número de discos proporcionado \n",
    "para resolver el problema y se muestran los movimientos realizados en pantalla \n"
   ]
  },
  {
   "cell_type": "code",
   "execution_count": 7,
   "id": "6e0029c9",
   "metadata": {},
   "outputs": [
    {
     "name": "stdout",
     "output_type": "stream",
     "text": [
      "El número de movimientos es: 7\n",
      "Mover disco 1 de torre A a torre C\n",
      "Mover disco 2 de torre A a torre B\n",
      "Mover disco 1 de torre C a torre B\n",
      "Mover disco 3 de torre A a torre C\n",
      "Mover disco 1 de torre B a torre A\n",
      "Mover disco 2 de torre B a torre C\n",
      "Mover disco 1 de torre A a torre C\n"
     ]
    }
   ],
   "source": [
    "print(\"El número de movimientos es:\",numero_movimientos(num_discos))\n",
    "torres_hanoi(num_discos) #Imprimir los resutados\n"
   ]
  },
  {
   "cell_type": "code",
   "execution_count": null,
   "id": "3a720356-8718-4bbc-9713-c31e65eb0f34",
   "metadata": {},
   "outputs": [],
   "source": []
  }
 ],
 "metadata": {
  "kernelspec": {
   "display_name": "Python 3 (ipykernel)",
   "language": "python",
   "name": "python3"
  },
  "language_info": {
   "codemirror_mode": {
    "name": "ipython",
    "version": 3
   },
   "file_extension": ".py",
   "mimetype": "text/x-python",
   "name": "python",
   "nbconvert_exporter": "python",
   "pygments_lexer": "ipython3",
   "version": "3.11.7"
  }
 },
 "nbformat": 4,
 "nbformat_minor": 5
}
