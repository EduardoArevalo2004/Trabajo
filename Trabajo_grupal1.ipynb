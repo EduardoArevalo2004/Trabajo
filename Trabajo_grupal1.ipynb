{
 "cells": [
  {
   "cell_type": "markdown",
   "id": "85ae718b",
   "metadata": {},
   "source": [
    "# hola mundooo"
   ]
  },
  {
   "cell_type": "code",
   "execution_count": 1,
   "id": "bf6014d9",
   "metadata": {},
   "outputs": [
    {
     "data": {
      "text/plain": [
       "6"
      ]
     },
     "execution_count": 1,
     "metadata": {},
     "output_type": "execute_result"
    }
   ],
   "source": [
    "prueba 2 ##hola"
   ]
  },
  {
   "cell_type": "code",
   "execution_count": null,
   "id": "1aab7f2f-9e80-4eaa-9a52-7f13e6fe5045",
   "metadata": {},
   "outputs": [],
   "source": [
    "4"
   ]
  },
  {
   "cell_type": "markdown",
   "id": "8bef3ef8",
   "metadata": {},
   "source": [
    "## U CAMPEÓN DEL APERTURA\n"
   ]
  },
  {
   "cell_type": "code",
   "execution_count": null,
   "id": "33fcde84",
   "metadata": {},
   "outputs": [],
   "source": []
  }
 ],
 "metadata": {
  "kernelspec": {
   "display_name": "Python 3 (ipykernel)",
   "language": "python",
   "name": "python3"
  },
  "language_info": {
   "codemirror_mode": {
    "name": "ipython",
    "version": 3
   },
   "file_extension": ".py",
   "mimetype": "text/x-python",
   "name": "python",
   "nbconvert_exporter": "python",
   "pygments_lexer": "ipython3",
   "version": "3.9.12"
  }
 },
 "nbformat": 4,
 "nbformat_minor": 5
}
